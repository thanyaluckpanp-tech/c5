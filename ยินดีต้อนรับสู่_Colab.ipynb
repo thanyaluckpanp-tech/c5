{
  "cells": [
    {
      "cell_type": "markdown",
      "metadata": {
        "id": "view-in-github",
        "colab_type": "text"
      },
      "source": [
        "<a href=\"https://colab.research.google.com/github/thanyaluckpanp-tech/c5/blob/main/%E0%B8%A2%E0%B8%B4%E0%B8%99%E0%B8%94%E0%B8%B5%E0%B8%95%E0%B9%89%E0%B8%AD%E0%B8%99%E0%B8%A3%E0%B8%B1%E0%B8%9A%E0%B8%AA%E0%B8%B9%E0%B9%88_Colab.ipynb\" target=\"_parent\"><img src=\"https://colab.research.google.com/assets/colab-badge.svg\" alt=\"Open In Colab\"/></a>"
      ]
    },
    {
      "cell_type": "markdown",
      "source": [
        "# Inheritance\n",
        "\n",
        "Step 1 Parent Class - Person\n",
        "1. Define a class \"Person\",\n",
        "2. Add __init__(self, name, age) and store those values on the object.\n",
        "3. Add a method display_info (self) that prints:\n",
        "    Name: <name>, Age: <age>\n",
        "\n",
        "Step 2: Child class - Student\n",
        "1. Define a class \"Student\" that inherits from \"Person\".\n",
        "2. Add __init__ function with super() to inherit the attributes from parent class.\n",
        "3. Add a new attribute \"marks\" and set it to an empty dictionary {}:\n",
        "    e.g., {\"Math\": 85}\n",
        "\n",
        "4. Implement add_mark (self, subject, score) function inside the Student class:\n",
        "    add or update the score in the marks dict.\n",
        "   \tif the subject does not exist in the mark dictionary, add new subject    and score to the dictionary\n",
        "        otherwise, update the score of the existing subject.\n",
        "    print a confirmation message like \"Added Science = 85\" or \"Updated Math = 90\"\n",
        "5. Implement display_marks(self) function.\n",
        "6. Implement average(self):\n",
        "    If no marks. return 0\n",
        "    otherwise, return the average (sumof scores / number of subjects)\n",
        "\n",
        "Step 3: Main Program\n",
        "1. Create one Student with name and age.\n",
        "2. Call display_info()\n",
        "3. Add at least two subject makrs\n",
        "4. Call display_marks()\n",
        "5. Print the average score the student.\n"
      ],
      "metadata": {
        "id": "1yKRoJjjMIJE"
      }
    },
    {
      "cell_type": "code",
      "source": [
        "class Person:\n",
        "    def __init__(self, name: str, age: int):\n",
        "        self._name = name\n",
        "        self._age = age\n",
        "\n",
        "    @property\n",
        "    def name(self):\n",
        "        return self._name\n",
        "\n",
        "    @property\n",
        "    def age(self):\n",
        "        return self._age\n",
        "\n",
        "    def display_info(self):\n",
        "        print(f\"Name: {self.name}, Age: {self.age}\")\n",
        "\n",
        "    def __str__(self):\n",
        "        return f\"{self.name} ({self.age} years old)\"\n",
        "\n",
        "    def __repr__(self):\n",
        "        return f\"Person(name={self.name!r}, age={self.age!r})\"\n",
        "\n",
        "\n",
        "class Student(Person):\n",
        "    def __init__(self, name: str, age: int):\n",
        "        super().__init__(name, age)\n",
        "        self._marks = {}\n",
        "\n",
        "    def add_mark(self, subject: str, score: float):\n",
        "        if not 0 <= score <= 100:\n",
        "            raise ValueError(\"Score must be between 0 and 100.\")\n",
        "\n",
        "        if subject not in self._marks:\n",
        "            print(f\"Added {subject} = {score}\")\n",
        "        else:\n",
        "            print(f\"Updated {subject} = {score}\")\n",
        "        self._marks[subject] = score\n",
        "\n",
        "    def display_marks(self):\n",
        "        if not self._marks:\n",
        "            print(\"No marks available.\")\n",
        "        else:\n",
        "            print(\"Marks:\")\n",
        "            for subject, score in self._marks.items():\n",
        "                print(f\"  {subject}: {score}\")\n",
        "\n",
        "    def average(self) -> float:\n",
        "        if not self._marks:\n",
        "            return 0.0\n",
        "        return sum(self._marks.values()) / len(self._marks)\n",
        "\n",
        "    def __str__(self):\n",
        "        return f\"Student: {super().__str__()}\"\n",
        "\n",
        "    def __repr__(self):\n",
        "        return f\"Student(name={self.name!r}, age={self.age!r}, marks={self._marks!r})\"\n"
      ],
      "metadata": {
        "id": "_6HTOjSnMJad"
      },
      "execution_count": 3,
      "outputs": []
    }
  ],
  "metadata": {
    "colab": {
      "name": "ยินดีต้อนรับสู่ Colab",
      "toc_visible": true,
      "provenance": [],
      "include_colab_link": true
    },
    "kernelspec": {
      "display_name": "Python 3",
      "name": "python3"
    }
  },
  "nbformat": 4,
  "nbformat_minor": 0
}